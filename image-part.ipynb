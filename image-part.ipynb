{
  "cells": [
    {
      "source": [
        "<a href=\"https://www.kaggle.com/code/pes1ug22am164/image-part?scriptVersionId=171996997\" target=\"_blank\"><img align=\"left\" alt=\"Kaggle\" title=\"Open in Kaggle\" src=\"https://kaggle.com/static/images/open-in-kaggle.svg\"></a>"
      ],
      "metadata": {
        "id": "tSxMywSSAqoZ"
      },
      "cell_type": "markdown",
      "id": "tSxMywSSAqoZ"
    },
    {
      "cell_type": "code",
      "source": [
        "!mkdir ~/.kaggle\n",
        "from google.colab import files\n",
        "files.upload()\n",
        "!cp kaggle.json ~/.kaggle/\n",
        "!chmod 600 ~/.kaggle/kaggle.json\n",
        "!kaggle datasets download -d shusrith/betterer-preproc"
      ],
      "metadata": {
        "id": "c3OgJ45kAsP5",
        "outputId": "d780c99f-ecc7-4661-b66b-048639405361",
        "colab": {
          "base_uri": "https://localhost:8080/",
          "height": 143
        }
      },
      "id": "c3OgJ45kAsP5",
      "execution_count": 2,
      "outputs": [
        {
          "output_type": "stream",
          "name": "stdout",
          "text": [
            "mkdir: cannot create directory ‘/root/.kaggle’: File exists\n"
          ]
        },
        {
          "output_type": "display_data",
          "data": {
            "text/plain": [
              "<IPython.core.display.HTML object>"
            ],
            "text/html": [
              "\n",
              "     <input type=\"file\" id=\"files-6135ca9e-8248-4d40-a6fc-a68ad148faf5\" name=\"files[]\" multiple disabled\n",
              "        style=\"border:none\" />\n",
              "     <output id=\"result-6135ca9e-8248-4d40-a6fc-a68ad148faf5\">\n",
              "      Upload widget is only available when the cell has been executed in the\n",
              "      current browser session. Please rerun this cell to enable.\n",
              "      </output>\n",
              "      <script>// Copyright 2017 Google LLC\n",
              "//\n",
              "// Licensed under the Apache License, Version 2.0 (the \"License\");\n",
              "// you may not use this file except in compliance with the License.\n",
              "// You may obtain a copy of the License at\n",
              "//\n",
              "//      http://www.apache.org/licenses/LICENSE-2.0\n",
              "//\n",
              "// Unless required by applicable law or agreed to in writing, software\n",
              "// distributed under the License is distributed on an \"AS IS\" BASIS,\n",
              "// WITHOUT WARRANTIES OR CONDITIONS OF ANY KIND, either express or implied.\n",
              "// See the License for the specific language governing permissions and\n",
              "// limitations under the License.\n",
              "\n",
              "/**\n",
              " * @fileoverview Helpers for google.colab Python module.\n",
              " */\n",
              "(function(scope) {\n",
              "function span(text, styleAttributes = {}) {\n",
              "  const element = document.createElement('span');\n",
              "  element.textContent = text;\n",
              "  for (const key of Object.keys(styleAttributes)) {\n",
              "    element.style[key] = styleAttributes[key];\n",
              "  }\n",
              "  return element;\n",
              "}\n",
              "\n",
              "// Max number of bytes which will be uploaded at a time.\n",
              "const MAX_PAYLOAD_SIZE = 100 * 1024;\n",
              "\n",
              "function _uploadFiles(inputId, outputId) {\n",
              "  const steps = uploadFilesStep(inputId, outputId);\n",
              "  const outputElement = document.getElementById(outputId);\n",
              "  // Cache steps on the outputElement to make it available for the next call\n",
              "  // to uploadFilesContinue from Python.\n",
              "  outputElement.steps = steps;\n",
              "\n",
              "  return _uploadFilesContinue(outputId);\n",
              "}\n",
              "\n",
              "// This is roughly an async generator (not supported in the browser yet),\n",
              "// where there are multiple asynchronous steps and the Python side is going\n",
              "// to poll for completion of each step.\n",
              "// This uses a Promise to block the python side on completion of each step,\n",
              "// then passes the result of the previous step as the input to the next step.\n",
              "function _uploadFilesContinue(outputId) {\n",
              "  const outputElement = document.getElementById(outputId);\n",
              "  const steps = outputElement.steps;\n",
              "\n",
              "  const next = steps.next(outputElement.lastPromiseValue);\n",
              "  return Promise.resolve(next.value.promise).then((value) => {\n",
              "    // Cache the last promise value to make it available to the next\n",
              "    // step of the generator.\n",
              "    outputElement.lastPromiseValue = value;\n",
              "    return next.value.response;\n",
              "  });\n",
              "}\n",
              "\n",
              "/**\n",
              " * Generator function which is called between each async step of the upload\n",
              " * process.\n",
              " * @param {string} inputId Element ID of the input file picker element.\n",
              " * @param {string} outputId Element ID of the output display.\n",
              " * @return {!Iterable<!Object>} Iterable of next steps.\n",
              " */\n",
              "function* uploadFilesStep(inputId, outputId) {\n",
              "  const inputElement = document.getElementById(inputId);\n",
              "  inputElement.disabled = false;\n",
              "\n",
              "  const outputElement = document.getElementById(outputId);\n",
              "  outputElement.innerHTML = '';\n",
              "\n",
              "  const pickedPromise = new Promise((resolve) => {\n",
              "    inputElement.addEventListener('change', (e) => {\n",
              "      resolve(e.target.files);\n",
              "    });\n",
              "  });\n",
              "\n",
              "  const cancel = document.createElement('button');\n",
              "  inputElement.parentElement.appendChild(cancel);\n",
              "  cancel.textContent = 'Cancel upload';\n",
              "  const cancelPromise = new Promise((resolve) => {\n",
              "    cancel.onclick = () => {\n",
              "      resolve(null);\n",
              "    };\n",
              "  });\n",
              "\n",
              "  // Wait for the user to pick the files.\n",
              "  const files = yield {\n",
              "    promise: Promise.race([pickedPromise, cancelPromise]),\n",
              "    response: {\n",
              "      action: 'starting',\n",
              "    }\n",
              "  };\n",
              "\n",
              "  cancel.remove();\n",
              "\n",
              "  // Disable the input element since further picks are not allowed.\n",
              "  inputElement.disabled = true;\n",
              "\n",
              "  if (!files) {\n",
              "    return {\n",
              "      response: {\n",
              "        action: 'complete',\n",
              "      }\n",
              "    };\n",
              "  }\n",
              "\n",
              "  for (const file of files) {\n",
              "    const li = document.createElement('li');\n",
              "    li.append(span(file.name, {fontWeight: 'bold'}));\n",
              "    li.append(span(\n",
              "        `(${file.type || 'n/a'}) - ${file.size} bytes, ` +\n",
              "        `last modified: ${\n",
              "            file.lastModifiedDate ? file.lastModifiedDate.toLocaleDateString() :\n",
              "                                    'n/a'} - `));\n",
              "    const percent = span('0% done');\n",
              "    li.appendChild(percent);\n",
              "\n",
              "    outputElement.appendChild(li);\n",
              "\n",
              "    const fileDataPromise = new Promise((resolve) => {\n",
              "      const reader = new FileReader();\n",
              "      reader.onload = (e) => {\n",
              "        resolve(e.target.result);\n",
              "      };\n",
              "      reader.readAsArrayBuffer(file);\n",
              "    });\n",
              "    // Wait for the data to be ready.\n",
              "    let fileData = yield {\n",
              "      promise: fileDataPromise,\n",
              "      response: {\n",
              "        action: 'continue',\n",
              "      }\n",
              "    };\n",
              "\n",
              "    // Use a chunked sending to avoid message size limits. See b/62115660.\n",
              "    let position = 0;\n",
              "    do {\n",
              "      const length = Math.min(fileData.byteLength - position, MAX_PAYLOAD_SIZE);\n",
              "      const chunk = new Uint8Array(fileData, position, length);\n",
              "      position += length;\n",
              "\n",
              "      const base64 = btoa(String.fromCharCode.apply(null, chunk));\n",
              "      yield {\n",
              "        response: {\n",
              "          action: 'append',\n",
              "          file: file.name,\n",
              "          data: base64,\n",
              "        },\n",
              "      };\n",
              "\n",
              "      let percentDone = fileData.byteLength === 0 ?\n",
              "          100 :\n",
              "          Math.round((position / fileData.byteLength) * 100);\n",
              "      percent.textContent = `${percentDone}% done`;\n",
              "\n",
              "    } while (position < fileData.byteLength);\n",
              "  }\n",
              "\n",
              "  // All done.\n",
              "  yield {\n",
              "    response: {\n",
              "      action: 'complete',\n",
              "    }\n",
              "  };\n",
              "}\n",
              "\n",
              "scope.google = scope.google || {};\n",
              "scope.google.colab = scope.google.colab || {};\n",
              "scope.google.colab._files = {\n",
              "  _uploadFiles,\n",
              "  _uploadFilesContinue,\n",
              "};\n",
              "})(self);\n",
              "</script> "
            ]
          },
          "metadata": {}
        },
        {
          "output_type": "stream",
          "name": "stdout",
          "text": [
            "Saving kaggle.json to kaggle (1).json\n",
            "Downloading betterer-preproc.zip to /content\n",
            " 90% 185M/206M [00:01<00:00, 150MB/s]\n",
            "100% 206M/206M [00:01<00:00, 158MB/s]\n"
          ]
        }
      ]
    },
    {
      "cell_type": "code",
      "source": [
        "!unzip /content/betterer-preproc.zip"
      ],
      "metadata": {
        "id": "b5JdvvdFBNgq"
      },
      "id": "b5JdvvdFBNgq",
      "execution_count": null,
      "outputs": []
    },
    {
      "cell_type": "code",
      "source": [
        "!cp -r /content/archive ~/.kaggle/input/"
      ],
      "metadata": {
        "id": "KON9RAKbBYw5"
      },
      "id": "KON9RAKbBYw5",
      "execution_count": 6,
      "outputs": []
    },
    {
      "cell_type": "code",
      "source": [
        "!ls ~/.kaggle/input"
      ],
      "metadata": {
        "id": "DGdGY6j_ByxG",
        "outputId": "6a1fdaac-43a2-4ccd-d5c0-bf9eaf269919",
        "colab": {
          "base_uri": "https://localhost:8080/"
        }
      },
      "id": "DGdGY6j_ByxG",
      "execution_count": 10,
      "outputs": [
        {
          "output_type": "stream",
          "name": "stdout",
          "text": [
            "test  train\n"
          ]
        }
      ]
    },
    {
      "cell_type": "code",
      "source": [
        "!kaggle datasets download -d tourist55/alzheimers-dataset-4-class-of-images"
      ],
      "metadata": {
        "id": "AHRAoMKxDcX_",
        "outputId": "0332bd19-b7f8-405f-a21b-758e56868169",
        "colab": {
          "base_uri": "https://localhost:8080/"
        }
      },
      "id": "AHRAoMKxDcX_",
      "execution_count": 24,
      "outputs": [
        {
          "output_type": "stream",
          "name": "stdout",
          "text": [
            "Downloading alzheimers-dataset-4-class-of-images.zip to /content\n",
            " 26% 9.00M/34.1M [00:00<00:00, 50.3MB/s]\n",
            "100% 34.1M/34.1M [00:00<00:00, 135MB/s] \n"
          ]
        }
      ]
    },
    {
      "cell_type": "code",
      "source": [
        "!unzip /content/alzheimers-dataset-4-class-of-images.zip"
      ],
      "metadata": {
        "id": "ekFksVJEDeKl"
      },
      "id": "ekFksVJEDeKl",
      "execution_count": null,
      "outputs": []
    },
    {
      "cell_type": "markdown",
      "id": "7cac8631",
      "metadata": {
        "papermill": {
          "duration": 0.007217,
          "end_time": "2024-04-14T16:20:49.614017",
          "exception": false,
          "start_time": "2024-04-14T16:20:49.6068",
          "status": "completed"
        },
        "tags": [],
        "id": "7cac8631"
      },
      "source": [
        "# PRE PROCESS\n",
        ".JPG TO .NPY"
      ]
    },
    {
      "cell_type": "code",
      "source": [
        "import os\n",
        "import cv2\n",
        "import numpy as np\n",
        "\n",
        "def jpg_to_npy_in_folders(input_folder, output_folder):\n",
        "    os.makedirs(output_folder, exist_ok=True)\n",
        "    for i, item in enumerate(os.listdir(input_folder)):\n",
        "        item_path = os.path.join(input_folder, item)\n",
        "        if os.path.isdir(item_path):\n",
        "            jpg_to_npy_in_folders(item_path, output_folder)\n",
        "        elif os.path.isfile(item_path) and item.endswith(\".jpg\"):\n",
        "            img = cv2.imread(item_path)\n",
        "            img_array = np.array(img)\n",
        "            output_file_path = os.path.join(output_folder, os.path.splitext(item)[0] + '.npy')\n",
        "            np.save(output_file_path, img_array)\n",
        "\n",
        "input_folder_path = \"/content/Alzheimer_s Dataset/train\"\n",
        "output_folder_path = \"/kaggle/working/train\"\n",
        "\n",
        "jpg_to_npy_in_folders(input_folder_path, output_folder_path)\n",
        "\n"
      ],
      "metadata": {
        "id": "Qk1z9nYFFLpb"
      },
      "id": "Qk1z9nYFFLpb",
      "execution_count": 52,
      "outputs": []
    },
    {
      "cell_type": "code",
      "execution_count": 97,
      "id": "098412aa",
      "metadata": {
        "_cell_guid": "b1076dfc-b9ad-4769-8c92-a6c4dae69d19",
        "_uuid": "8f2839f25d086af736a60e9eeb907d3b93b6e0e5",
        "execution": {
          "iopub.execute_input": "2024-04-14T16:20:49.629016Z",
          "iopub.status.busy": "2024-04-14T16:20:49.628342Z",
          "iopub.status.idle": "2024-04-14T16:20:49.634328Z",
          "shell.execute_reply": "2024-04-14T16:20:49.633512Z"
        },
        "papermill": {
          "duration": 0.016127,
          "end_time": "2024-04-14T16:20:49.636538",
          "exception": false,
          "start_time": "2024-04-14T16:20:49.620411",
          "status": "completed"
        },
        "tags": [],
        "id": "098412aa"
      },
      "outputs": [],
      "source": [
        "import os\n",
        "import cv2\n",
        "import numpy as np\n",
        "\n",
        "def jpg_to_npy_in_folders(input_folder, output_folder):\n",
        "    os.makedirs(output_folder, exist_ok=True)\n",
        "    for i, item in enumerate(os.listdir(input_folder)):\n",
        "        item_path = os.path.join(input_folder, item)\n",
        "        if os.path.isdir(item_path):\n",
        "            jpg_to_npy_in_folders(item_path, output_folder)\n",
        "        elif os.path.isfile(item_path) and item.endswith(\".jpg\"):\n",
        "            img = cv2.imread(item_path)\n",
        "            img_array = np.array(img)\n",
        "            output_file_path = os.path.join(output_folder, f\"{input_folder}{i}.npy\")\n",
        "            np.save(output_file_path, img_array)\n",
        "\n",
        "# input_folder_path = \"/kaggle/input/alzheimers-dataset-4-class-of-images/Alzheimer_s Dataset/train\"\n",
        "# output_folder_path = \"/kaggle/working/train\"\n",
        "\n",
        "# jpg_to_npy_in_folders(input_folder_path, output_folder_path)\n",
        "jpg_to_npy_in_folders(\"/content/Alzheimer_s Dataset/test\", \"/kaggle/working/test\")\n",
        "\n"
      ]
    },
    {
      "cell_type": "code",
      "execution_count": 78,
      "id": "10a3d79a",
      "metadata": {
        "execution": {
          "iopub.execute_input": "2024-04-14T16:20:49.65172Z",
          "iopub.status.busy": "2024-04-14T16:20:49.651113Z",
          "iopub.status.idle": "2024-04-14T16:20:49.655819Z",
          "shell.execute_reply": "2024-04-14T16:20:49.654972Z"
        },
        "papermill": {
          "duration": 0.015258,
          "end_time": "2024-04-14T16:20:49.658145",
          "exception": false,
          "start_time": "2024-04-14T16:20:49.642887",
          "status": "completed"
        },
        "tags": [],
        "id": "10a3d79a",
        "outputId": "cf55201b-c13c-48d0-f6f3-2cc24151a985",
        "colab": {
          "base_uri": "https://localhost:8080/"
        }
      },
      "outputs": [
        {
          "output_type": "execute_result",
          "data": {
            "text/plain": [
              "6161"
            ]
          },
          "metadata": {},
          "execution_count": 78
        }
      ],
      "source": [
        "import os\n",
        "import numpy as np\n",
        "directory = '/kaggle/working/train'\n",
        "\n",
        "files = [file for file in os.listdir(directory) if file.endswith('.npy')]\n",
        "len(files)\n"
      ]
    },
    {
      "cell_type": "code",
      "execution_count": 79,
      "id": "8426e2b0",
      "metadata": {
        "execution": {
          "iopub.execute_input": "2024-04-14T16:20:49.67459Z",
          "iopub.status.busy": "2024-04-14T16:20:49.67395Z",
          "iopub.status.idle": "2024-04-14T16:20:49.678643Z",
          "shell.execute_reply": "2024-04-14T16:20:49.677698Z"
        },
        "papermill": {
          "duration": 0.014867,
          "end_time": "2024-04-14T16:20:49.680924",
          "exception": false,
          "start_time": "2024-04-14T16:20:49.666057",
          "status": "completed"
        },
        "tags": [],
        "id": "8426e2b0",
        "outputId": "0afc96de-4087-4b3d-ad93-a5cf7154caf6",
        "colab": {
          "base_uri": "https://localhost:8080/"
        }
      },
      "outputs": [
        {
          "output_type": "stream",
          "name": "stdout",
          "text": [
            "717 1092 2560 1792\n"
          ]
        }
      ],
      "source": [
        "mildDem = [i for i in files if i.startswith(\"mildDem\")]\n",
        "moderateDem = [i for i in files if \"moderateDem\" in i]\n",
        "nonDem = [i for i in files if \"nonDem\" in i]\n",
        "veryMild = [i for i in files if \"verymildDem\" in i]\n",
        "print(len(mildDem), len(moderateDem), len(nonDem), len(veryMild))"
      ]
    },
    {
      "cell_type": "code",
      "execution_count": 80,
      "id": "e5cb58b8",
      "metadata": {
        "execution": {
          "iopub.execute_input": "2024-04-14T16:20:49.695726Z",
          "iopub.status.busy": "2024-04-14T16:20:49.695107Z",
          "iopub.status.idle": "2024-04-14T16:20:49.700006Z",
          "shell.execute_reply": "2024-04-14T16:20:49.69919Z"
        },
        "papermill": {
          "duration": 0.014924,
          "end_time": "2024-04-14T16:20:49.702263",
          "exception": false,
          "start_time": "2024-04-14T16:20:49.687339",
          "status": "completed"
        },
        "tags": [],
        "id": "e5cb58b8"
      },
      "outputs": [],
      "source": [
        "import imgaug.augmenters as iaa\n",
        "\n",
        "# Define the augmenter\n",
        "augmenter = iaa.Sequential([\n",
        "    iaa.Multiply((0.8, 1.2)),\n",
        "    iaa.LinearContrast((0.8, 1.2)),\n",
        "])\n",
        "\n",
        "augmented_images = []\n",
        "\n",
        "for path in moderateDem:\n",
        "    path = os.path.join(\"/kaggle/working/train\", path)\n",
        "    image = np.load(path)\n",
        "\n",
        "    for _ in range(20):\n",
        "        augmented_image = augmenter.augment_image(image)\n",
        "        augmented_images.append(augmented_image)\n",
        "augmented_images = np.array(augmented_images)"
      ]
    },
    {
      "cell_type": "code",
      "execution_count": 57,
      "id": "416711f7",
      "metadata": {
        "execution": {
          "iopub.execute_input": "2024-04-14T16:20:49.716713Z",
          "iopub.status.busy": "2024-04-14T16:20:49.716333Z",
          "iopub.status.idle": "2024-04-14T16:20:49.720675Z",
          "shell.execute_reply": "2024-04-14T16:20:49.719592Z"
        },
        "papermill": {
          "duration": 0.014268,
          "end_time": "2024-04-14T16:20:49.72296",
          "exception": false,
          "start_time": "2024-04-14T16:20:49.708692",
          "status": "completed"
        },
        "tags": [],
        "id": "416711f7",
        "outputId": "d3e1db21-0b7f-463a-beb2-d12f189d3434",
        "colab": {
          "base_uri": "https://localhost:8080/"
        }
      },
      "outputs": [
        {
          "output_type": "execute_result",
          "data": {
            "text/plain": [
              "1040"
            ]
          },
          "metadata": {},
          "execution_count": 57
        }
      ],
      "source": [
        "len(augmented_images)"
      ]
    },
    {
      "cell_type": "code",
      "execution_count": 60,
      "id": "08a3b5e6",
      "metadata": {
        "execution": {
          "iopub.execute_input": "2024-04-14T16:20:49.737416Z",
          "iopub.status.busy": "2024-04-14T16:20:49.737037Z",
          "iopub.status.idle": "2024-04-14T16:20:49.74207Z",
          "shell.execute_reply": "2024-04-14T16:20:49.740826Z"
        },
        "papermill": {
          "duration": 0.015078,
          "end_time": "2024-04-14T16:20:49.744409",
          "exception": false,
          "start_time": "2024-04-14T16:20:49.729331",
          "status": "completed"
        },
        "tags": [],
        "id": "08a3b5e6",
        "outputId": "a7bb79a7-f452-4a43-8120-5f148a6a40e7",
        "colab": {
          "base_uri": "https://localhost:8080/"
        }
      },
      "outputs": [
        {
          "output_type": "stream",
          "name": "stdout",
          "text": [
            "Augmented images saved successfully.\n"
          ]
        }
      ],
      "source": [
        "import cv2\n",
        "import os\n",
        "\n",
        "\n",
        "output_directory = \"/kaggle/working/train\"\n",
        "\n",
        "os.makedirs(output_directory, exist_ok=True)\n",
        "\n",
        "for i, image in enumerate(augmented_images):\n",
        "    output_path = os.path.join(output_directory, f\"moderateDem{i+53}.npy\")\n",
        "    np.save(output_path, image)\n",
        "\n",
        "\n",
        "print(\"Augmented images saved successfully.\")\n"
      ]
    },
    {
      "cell_type": "code",
      "execution_count": 81,
      "id": "7cb3aede",
      "metadata": {
        "execution": {
          "iopub.execute_input": "2024-04-14T16:20:49.759359Z",
          "iopub.status.busy": "2024-04-14T16:20:49.758993Z",
          "iopub.status.idle": "2024-04-14T16:20:50.102257Z",
          "shell.execute_reply": "2024-04-14T16:20:50.101064Z"
        },
        "papermill": {
          "duration": 0.353741,
          "end_time": "2024-04-14T16:20:50.104738",
          "exception": false,
          "start_time": "2024-04-14T16:20:49.750997",
          "status": "completed"
        },
        "tags": [],
        "id": "7cb3aede",
        "outputId": "5f5a1b8e-dcea-4e26-d7ca-8dc2ba5d2c5c",
        "colab": {
          "base_uri": "https://localhost:8080/"
        }
      },
      "outputs": [
        {
          "output_type": "execute_result",
          "data": {
            "text/plain": [
              "6161"
            ]
          },
          "metadata": {},
          "execution_count": 81
        }
      ],
      "source": [
        "import os\n",
        "import numpy as np\n",
        "directory = '/kaggle/working/train'\n",
        "\n",
        "files = [file for file in os.listdir(directory) if file.endswith('.npy')]\n",
        "len(files)"
      ]
    },
    {
      "cell_type": "code",
      "source": [
        "!ls -l /kaggle/working/train"
      ],
      "metadata": {
        "id": "M6u25g7qGqp0"
      },
      "id": "M6u25g7qGqp0",
      "execution_count": null,
      "outputs": []
    },
    {
      "cell_type": "code",
      "execution_count": 83,
      "id": "5a3922a7",
      "metadata": {
        "execution": {
          "iopub.execute_input": "2024-04-14T16:20:50.120669Z",
          "iopub.status.busy": "2024-04-14T16:20:50.119628Z",
          "iopub.status.idle": "2024-04-14T16:20:50.130387Z",
          "shell.execute_reply": "2024-04-14T16:20:50.129179Z"
        },
        "papermill": {
          "duration": 0.021561,
          "end_time": "2024-04-14T16:20:50.133115",
          "exception": false,
          "start_time": "2024-04-14T16:20:50.111554",
          "status": "completed"
        },
        "tags": [],
        "id": "5a3922a7",
        "outputId": "879be952-c19e-4b3a-e597-5737c9eed500",
        "colab": {
          "base_uri": "https://localhost:8080/"
        }
      },
      "outputs": [
        {
          "output_type": "stream",
          "name": "stdout",
          "text": [
            "717 1092 2560 1792\n"
          ]
        }
      ],
      "source": [
        "mildDem = [i for i in files if i.startswith(\"mildDem\")]\n",
        "moderateDem = [i for i in files if \"moderateDem\" in i]\n",
        "nonDem = [i for i in files if \"nonDem\" in i]\n",
        "veryMild = [i for i in files if \"verymildDem\" in i]\n",
        "print(len(mildDem), len(moderateDem), len(nonDem), len(veryMild))"
      ]
    },
    {
      "cell_type": "code",
      "execution_count": 84,
      "id": "6da1451b",
      "metadata": {
        "execution": {
          "iopub.execute_input": "2024-04-14T16:20:50.148553Z",
          "iopub.status.busy": "2024-04-14T16:20:50.148202Z",
          "iopub.status.idle": "2024-04-14T16:20:51.165537Z",
          "shell.execute_reply": "2024-04-14T16:20:51.164204Z"
        },
        "papermill": {
          "duration": 1.028328,
          "end_time": "2024-04-14T16:20:51.168289",
          "exception": false,
          "start_time": "2024-04-14T16:20:50.139961",
          "status": "completed"
        },
        "tags": [],
        "id": "6da1451b",
        "outputId": "d1ba4b2f-749a-4d9c-fad2-37e53ea17606",
        "colab": {
          "base_uri": "https://localhost:8080/"
        }
      },
      "outputs": [
        {
          "output_type": "execute_result",
          "data": {
            "text/plain": [
              "Class\n",
              "2    2560\n",
              "3    1792\n",
              "1    1092\n",
              "0     717\n",
              "Name: count, dtype: int64"
            ]
          },
          "metadata": {},
          "execution_count": 84
        }
      ],
      "source": [
        "import pandas as pd\n",
        "l = [[mildDem, 0], [moderateDem, 1], [nonDem, 2], [veryMild, 3]]\n",
        "x = []\n",
        "for i in l:\n",
        "    for j in i[0]:\n",
        "        path = os.path.join(\"/kaggle/working/train\", j)\n",
        "        x.append([i[1], path])\n",
        "\n",
        "df = pd.DataFrame(x, columns=[\"Class\", \"Path\"])\n",
        "df[\"Class\"].value_counts()\n",
        ""
      ]
    },
    {
      "cell_type": "code",
      "execution_count": 85,
      "id": "70413197",
      "metadata": {
        "execution": {
          "iopub.execute_input": "2024-04-14T16:20:51.184307Z",
          "iopub.status.busy": "2024-04-14T16:20:51.183792Z",
          "iopub.status.idle": "2024-04-14T16:21:46.241149Z",
          "shell.execute_reply": "2024-04-14T16:21:46.239821Z"
        },
        "papermill": {
          "duration": 55.068765,
          "end_time": "2024-04-14T16:21:46.244167",
          "exception": false,
          "start_time": "2024-04-14T16:20:51.175402",
          "status": "completed"
        },
        "tags": [],
        "id": "70413197"
      },
      "outputs": [],
      "source": [
        "images = []\n",
        "for i in df[\"Path\"]:\n",
        "    images.append(np.load(i))\n",
        "images = np.array(images)"
      ]
    },
    {
      "cell_type": "code",
      "execution_count": 86,
      "id": "b71f6071",
      "metadata": {
        "execution": {
          "iopub.execute_input": "2024-04-14T16:21:46.261075Z",
          "iopub.status.busy": "2024-04-14T16:21:46.26062Z",
          "iopub.status.idle": "2024-04-14T16:21:48.297763Z",
          "shell.execute_reply": "2024-04-14T16:21:48.296481Z"
        },
        "papermill": {
          "duration": 2.048503,
          "end_time": "2024-04-14T16:21:48.300808",
          "exception": false,
          "start_time": "2024-04-14T16:21:46.252305",
          "status": "completed"
        },
        "tags": [],
        "id": "b71f6071"
      },
      "outputs": [],
      "source": [
        "from sklearn.model_selection import train_test_split\n",
        "labels = np.array(df[\"Class\"])\n",
        "train_images, test_images, train_labels, test_labels = train_test_split(images, labels, test_size=0.2, random_state=42)\n"
      ]
    },
    {
      "cell_type": "code",
      "execution_count": 87,
      "id": "eec25512",
      "metadata": {
        "execution": {
          "iopub.execute_input": "2024-04-14T16:21:48.318855Z",
          "iopub.status.busy": "2024-04-14T16:21:48.318439Z",
          "iopub.status.idle": "2024-04-14T16:21:48.330268Z",
          "shell.execute_reply": "2024-04-14T16:21:48.328899Z"
        },
        "papermill": {
          "duration": 0.024009,
          "end_time": "2024-04-14T16:21:48.332932",
          "exception": false,
          "start_time": "2024-04-14T16:21:48.308923",
          "status": "completed"
        },
        "tags": [],
        "id": "eec25512",
        "outputId": "c6cdd34e-1cc8-45de-c15e-be743aa84f2f",
        "colab": {
          "base_uri": "https://localhost:8080/"
        }
      },
      "outputs": [
        {
          "output_type": "stream",
          "name": "stdout",
          "text": [
            "[1 3 0 ... 3 3 1]\n",
            "[1 0 2 ... 3 3 2]\n"
          ]
        }
      ],
      "source": [
        "from sklearn.preprocessing import LabelEncoder\n",
        "label_encoder = LabelEncoder()\n",
        "train_labels_encoded = label_encoder.fit_transform(train_labels)\n",
        "test_labels_encoded = label_encoder.transform(test_labels)\n",
        "\n",
        "# Verify the encoded labels\n",
        "print(train_labels_encoded)\n",
        "print(test_labels_encoded)"
      ]
    },
    {
      "cell_type": "code",
      "execution_count": 88,
      "id": "44d84028",
      "metadata": {
        "execution": {
          "iopub.execute_input": "2024-04-14T16:21:48.350234Z",
          "iopub.status.busy": "2024-04-14T16:21:48.349832Z",
          "iopub.status.idle": "2024-04-14T16:21:48.355824Z",
          "shell.execute_reply": "2024-04-14T16:21:48.354656Z"
        },
        "papermill": {
          "duration": 0.018315,
          "end_time": "2024-04-14T16:21:48.358485",
          "exception": false,
          "start_time": "2024-04-14T16:21:48.34017",
          "status": "completed"
        },
        "tags": [],
        "id": "44d84028",
        "outputId": "e623117e-fc40-47f8-b293-a091535730ea",
        "colab": {
          "base_uri": "https://localhost:8080/"
        }
      },
      "outputs": [
        {
          "output_type": "stream",
          "name": "stdout",
          "text": [
            "(4928, 208, 176, 3) (1233, 208, 176, 3) (4928,) (1233,)\n"
          ]
        }
      ],
      "source": [
        "print(train_images.shape, test_images.shape, train_labels_encoded.shape, test_labels_encoded.shape)"
      ]
    },
    {
      "cell_type": "code",
      "execution_count": 89,
      "id": "4505c50f",
      "metadata": {
        "execution": {
          "iopub.execute_input": "2024-04-14T16:21:48.375027Z",
          "iopub.status.busy": "2024-04-14T16:21:48.374609Z",
          "iopub.status.idle": "2024-04-14T16:21:48.382271Z",
          "shell.execute_reply": "2024-04-14T16:21:48.380985Z"
        },
        "papermill": {
          "duration": 0.019563,
          "end_time": "2024-04-14T16:21:48.385184",
          "exception": false,
          "start_time": "2024-04-14T16:21:48.365621",
          "status": "completed"
        },
        "tags": [],
        "id": "4505c50f",
        "outputId": "9006eafd-cabe-4826-f6d9-6e24c7de97c4",
        "colab": {
          "base_uri": "https://localhost:8080/"
        }
      },
      "outputs": [
        {
          "output_type": "stream",
          "name": "stdout",
          "text": [
            "[1 0 2 ... 3 3 2]\n"
          ]
        },
        {
          "output_type": "execute_result",
          "data": {
            "text/plain": [
              "array([1, 0, 2, ..., 3, 3, 2])"
            ]
          },
          "metadata": {},
          "execution_count": 89
        }
      ],
      "source": [
        "print(test_labels)\n",
        "test_labels_encoded"
      ]
    },
    {
      "cell_type": "code",
      "execution_count": 90,
      "id": "58759ed5",
      "metadata": {
        "execution": {
          "iopub.execute_input": "2024-04-14T16:21:48.402167Z",
          "iopub.status.busy": "2024-04-14T16:21:48.401759Z",
          "iopub.status.idle": "2024-04-14T17:05:01.48518Z",
          "shell.execute_reply": "2024-04-14T17:05:01.483863Z"
        },
        "papermill": {
          "duration": 2593.224621,
          "end_time": "2024-04-14T17:05:01.617242",
          "exception": false,
          "start_time": "2024-04-14T16:21:48.392621",
          "status": "completed"
        },
        "tags": [],
        "id": "58759ed5",
        "outputId": "58391fd0-2470-4084-8ad4-9c1933d66c85",
        "colab": {
          "base_uri": "https://localhost:8080/"
        }
      },
      "outputs": [
        {
          "output_type": "stream",
          "name": "stdout",
          "text": [
            "Epoch 1/10\n",
            "154/154 [==============================] - 7s 36ms/step - loss: 9.2265 - accuracy: 0.6297 - sparse_categorical_accuracy: 0.6297 - val_loss: 0.5957 - val_accuracy: 0.7397 - val_sparse_categorical_accuracy: 0.7397\n",
            "Epoch 2/10\n",
            "154/154 [==============================] - 5s 31ms/step - loss: 0.4731 - accuracy: 0.7971 - sparse_categorical_accuracy: 0.7971 - val_loss: 0.4711 - val_accuracy: 0.8110 - val_sparse_categorical_accuracy: 0.8110\n",
            "Epoch 3/10\n",
            "154/154 [==============================] - 5s 34ms/step - loss: 0.3166 - accuracy: 0.8787 - sparse_categorical_accuracy: 0.8787 - val_loss: 0.4207 - val_accuracy: 0.8337 - val_sparse_categorical_accuracy: 0.8337\n",
            "Epoch 4/10\n",
            "154/154 [==============================] - 5s 34ms/step - loss: 0.1650 - accuracy: 0.9407 - sparse_categorical_accuracy: 0.9407 - val_loss: 0.2627 - val_accuracy: 0.8978 - val_sparse_categorical_accuracy: 0.8978\n",
            "Epoch 5/10\n",
            "154/154 [==============================] - 5s 33ms/step - loss: 0.0834 - accuracy: 0.9728 - sparse_categorical_accuracy: 0.9728 - val_loss: 0.1521 - val_accuracy: 0.9448 - val_sparse_categorical_accuracy: 0.9448\n",
            "Epoch 6/10\n",
            "154/154 [==============================] - 5s 31ms/step - loss: 0.0383 - accuracy: 0.9899 - sparse_categorical_accuracy: 0.9899 - val_loss: 0.1573 - val_accuracy: 0.9448 - val_sparse_categorical_accuracy: 0.9448\n",
            "Epoch 7/10\n",
            "154/154 [==============================] - 5s 33ms/step - loss: 0.0250 - accuracy: 0.9927 - sparse_categorical_accuracy: 0.9927 - val_loss: 0.1742 - val_accuracy: 0.9448 - val_sparse_categorical_accuracy: 0.9448\n",
            "Epoch 8/10\n",
            "154/154 [==============================] - 5s 32ms/step - loss: 0.0656 - accuracy: 0.9756 - sparse_categorical_accuracy: 0.9756 - val_loss: 0.2894 - val_accuracy: 0.9108 - val_sparse_categorical_accuracy: 0.9108\n",
            "Epoch 9/10\n",
            "154/154 [==============================] - 5s 33ms/step - loss: 0.0657 - accuracy: 0.9756 - sparse_categorical_accuracy: 0.9756 - val_loss: 0.1468 - val_accuracy: 0.9505 - val_sparse_categorical_accuracy: 0.9505\n",
            "Epoch 10/10\n",
            "154/154 [==============================] - 5s 32ms/step - loss: 0.0286 - accuracy: 0.9911 - sparse_categorical_accuracy: 0.9911 - val_loss: 0.1844 - val_accuracy: 0.9465 - val_sparse_categorical_accuracy: 0.9465\n"
          ]
        }
      ],
      "source": [
        "import tensorflow as tf\n",
        "from tensorflow.keras import layers, models\n",
        "\n",
        "# Define CNN model\n",
        "model = models.Sequential([\n",
        "    layers.Input(shape=train_images[0].shape),  # Input layer with shape of input data\n",
        "    layers.Conv2D(32, (3, 3), activation='relu'),\n",
        "    layers.MaxPooling2D((2, 2)),\n",
        "    layers.Conv2D(64, (3, 3), activation='relu'),\n",
        "    layers.MaxPooling2D((2, 2)),\n",
        "    layers.Conv2D(64, (3, 3), activation='relu'),\n",
        "    layers.Flatten(),\n",
        "    layers.Dense(64, activation='relu'),\n",
        "    layers.Dense(4)  # Number of classes\n",
        "])\n",
        "\n",
        "# Define precision and recall metrics\n",
        "precision = tf.keras.metrics.Precision()\n",
        "recall = tf.keras.metrics.Recall()\n",
        "\n",
        "# Define F1 score function\n",
        "def f1_score(y_true, y_pred):\n",
        "    p = precision(y_true, y_pred)\n",
        "    r = recall(y_true, y_pred)\n",
        "    return 2 * ((p * r) / (p + r + tf.keras.backend.epsilon()))\n",
        "\n",
        "# Compile the model\n",
        "# Compile the model\n",
        "model.compile(optimizer='adam',\n",
        "              loss=tf.keras.losses.SparseCategoricalCrossentropy(from_logits=True),\n",
        "              metrics=['accuracy', tf.keras.metrics.SparseCategoricalAccuracy()])\n",
        "\n",
        "# Train the model\n",
        "history = model.fit(train_images, train_labels_encoded, epochs=10, validation_data=(test_images, test_labels_encoded))"
      ]
    },
    {
      "cell_type": "code",
      "execution_count": 91,
      "id": "f26751b2",
      "metadata": {
        "execution": {
          "iopub.execute_input": "2024-04-14T17:05:02.053212Z",
          "iopub.status.busy": "2024-04-14T17:05:02.051535Z",
          "iopub.status.idle": "2024-04-14T17:05:19.835728Z",
          "shell.execute_reply": "2024-04-14T17:05:19.834478Z"
        },
        "papermill": {
          "duration": 18.00706,
          "end_time": "2024-04-14T17:05:19.838422",
          "exception": false,
          "start_time": "2024-04-14T17:05:01.831362",
          "status": "completed"
        },
        "tags": [],
        "id": "f26751b2",
        "outputId": "031eaaa6-c3ba-41bc-dfea-4ac7d02487e5",
        "colab": {
          "base_uri": "https://localhost:8080/"
        }
      },
      "outputs": [
        {
          "output_type": "stream",
          "name": "stdout",
          "text": [
            "39/39 [==============================] - 0s 9ms/step\n",
            "ROC AUC: 0.9944331537311125\n"
          ]
        }
      ],
      "source": [
        "import numpy as np\n",
        "from sklearn.metrics import roc_auc_score\n",
        "\n",
        "y_prob = model.predict(test_images)\n",
        "\n",
        "y_prob = tf.nn.softmax(y_prob).numpy()\n",
        "\n",
        "y_true = np.eye(4)[test_labels_encoded]\n",
        "\n",
        "# Compute ROC AUC for each class\n",
        "roc_auc = roc_auc_score(y_true, y_prob, average='macro')\n",
        "\n",
        "print(\"ROC AUC:\", roc_auc)\n"
      ]
    },
    {
      "cell_type": "code",
      "execution_count": 92,
      "id": "ac3ed08e",
      "metadata": {
        "execution": {
          "iopub.execute_input": "2024-04-14T17:05:20.292038Z",
          "iopub.status.busy": "2024-04-14T17:05:20.291618Z",
          "iopub.status.idle": "2024-04-14T17:05:20.44734Z",
          "shell.execute_reply": "2024-04-14T17:05:20.445546Z"
        },
        "papermill": {
          "duration": 0.387138,
          "end_time": "2024-04-14T17:05:20.450268",
          "exception": false,
          "start_time": "2024-04-14T17:05:20.06313",
          "status": "completed"
        },
        "tags": [],
        "id": "ac3ed08e",
        "outputId": "537a50e7-6d27-41b4-c3d2-d1da35e3c95b",
        "colab": {
          "base_uri": "https://localhost:8080/"
        }
      },
      "outputs": [
        {
          "output_type": "stream",
          "name": "stderr",
          "text": [
            "/usr/local/lib/python3.10/dist-packages/keras/src/engine/training.py:3103: UserWarning: You are saving your model as an HDF5 file via `model.save()`. This file format is considered legacy. We recommend using instead the native Keras format, e.g. `model.save('my_model.keras')`.\n",
            "  saving_api.save_model(\n"
          ]
        }
      ],
      "source": [
        "# Save the model\n",
        "model.save(\"my_cnn_model.h5\")\n"
      ]
    },
    {
      "cell_type": "code",
      "source": [
        "import os\n",
        "import numpy as np\n",
        "directory = '/content/Alzheimer_s Dataset/test'\n",
        "\n",
        "files = [file for file in os.listdir(directory) if file.endswith('.npy')]\n",
        "len(files)"
      ],
      "metadata": {
        "id": "CihNhxENChlt",
        "outputId": "7c6fccd6-1457-44bb-c936-31a7e9ac9570",
        "colab": {
          "base_uri": "https://localhost:8080/"
        }
      },
      "id": "CihNhxENChlt",
      "execution_count": 98,
      "outputs": [
        {
          "output_type": "execute_result",
          "data": {
            "text/plain": [
              "1279"
            ]
          },
          "metadata": {},
          "execution_count": 98
        }
      ]
    },
    {
      "cell_type": "code",
      "source": [
        "mildDem = [i for i in files if i.startswith(\"MildDem\")]\n",
        "moderateDem = [i for i in files if \"ModerateDem\" in i]\n",
        "nonDem = [i for i in files if \"NonDem\" in i]\n",
        "veryMild = [i for i in files if \"VeryMildDem\" in i]\n",
        "print(len(mildDem), len(moderateDem), len(nonDem), len(veryMild))"
      ],
      "metadata": {
        "id": "avj2hYL_Cp9p",
        "outputId": "8b1e3e34-db8e-41d9-bfd5-e9b93b88a419",
        "colab": {
          "base_uri": "https://localhost:8080/"
        }
      },
      "id": "avj2hYL_Cp9p",
      "execution_count": 100,
      "outputs": [
        {
          "output_type": "stream",
          "name": "stdout",
          "text": [
            "179 12 640 448\n"
          ]
        }
      ]
    },
    {
      "cell_type": "code",
      "source": [
        "import pandas as pd\n",
        "l = [[mildDem, 0], [moderateDem, 1], [nonDem, 2], [veryMild, 3]]\n",
        "x = []\n",
        "for i in l:\n",
        "    for j in i[0]:\n",
        "        path = os.path.join(\"/content/Alzheimer_s Dataset/test\", j)\n",
        "        x.append([i[1], path])\n",
        "\n",
        "df = pd.DataFrame(x, columns=[\"Class\", \"Path\"])\n",
        "df[\"Class\"].value_counts()\n",
        ""
      ],
      "metadata": {
        "id": "63L3eQx3Cs6g",
        "outputId": "7b590c81-c5c2-4e39-876a-30f5c96bb405",
        "colab": {
          "base_uri": "https://localhost:8080/"
        }
      },
      "id": "63L3eQx3Cs6g",
      "execution_count": 101,
      "outputs": [
        {
          "output_type": "execute_result",
          "data": {
            "text/plain": [
              "Class\n",
              "2    640\n",
              "3    448\n",
              "0    179\n",
              "1     12\n",
              "Name: count, dtype: int64"
            ]
          },
          "metadata": {},
          "execution_count": 101
        }
      ]
    },
    {
      "cell_type": "code",
      "source": [
        "images = []\n",
        "for i in df[\"Path\"]:\n",
        "    images.append(np.load(i))\n",
        "images = np.array(images)"
      ],
      "metadata": {
        "id": "QwkXDmRMCwlr"
      },
      "id": "QwkXDmRMCwlr",
      "execution_count": 102,
      "outputs": []
    },
    {
      "cell_type": "code",
      "source": [
        "labels = df[\"Class\"]\n",
        "labels = label_encoder.transform(labels)\n",
        "# Verify the encoded labels\n",
        "print(labels)"
      ],
      "metadata": {
        "id": "N6jxb1FwC2bj",
        "outputId": "9c87c027-2d95-41ca-da1d-be13aed9dbad",
        "colab": {
          "base_uri": "https://localhost:8080/"
        }
      },
      "id": "N6jxb1FwC2bj",
      "execution_count": 103,
      "outputs": [
        {
          "output_type": "stream",
          "name": "stdout",
          "text": [
            "[0 0 0 ... 3 3 3]\n"
          ]
        }
      ]
    },
    {
      "cell_type": "code",
      "source": [
        "model.evaluate(images, labels)"
      ],
      "metadata": {
        "id": "QdaXXEvFDJKJ",
        "outputId": "3e0756e8-0f20-45d9-98ed-7032cc7fe1a5",
        "colab": {
          "base_uri": "https://localhost:8080/"
        }
      },
      "id": "QdaXXEvFDJKJ",
      "execution_count": 104,
      "outputs": [
        {
          "output_type": "stream",
          "name": "stdout",
          "text": [
            "40/40 [==============================] - 0s 11ms/step - loss: 2.5724 - accuracy: 0.5778 - sparse_categorical_accuracy: 0.5778\n"
          ]
        },
        {
          "output_type": "execute_result",
          "data": {
            "text/plain": [
              "[2.572382926940918, 0.577795147895813, 0.577795147895813]"
            ]
          },
          "metadata": {},
          "execution_count": 104
        }
      ]
    },
    {
      "cell_type": "code",
      "source": [],
      "metadata": {
        "id": "XREPQZ-SE05_"
      },
      "id": "XREPQZ-SE05_",
      "execution_count": null,
      "outputs": []
    }
  ],
  "metadata": {
    "kaggle": {
      "accelerator": "none",
      "dataSources": [
        {
          "datasetId": 457093,
          "sourceId": 861496,
          "sourceType": "datasetVersion"
        },
        {
          "datasetId": 4792690,
          "sourceId": 8112894,
          "sourceType": "datasetVersion"
        }
      ],
      "dockerImageVersionId": 30684,
      "isGpuEnabled": false,
      "isInternetEnabled": false,
      "language": "python",
      "sourceType": "notebook"
    },
    "kernelspec": {
      "display_name": "Python 3",
      "name": "python3"
    },
    "language_info": {
      "codemirror_mode": {
        "name": "ipython",
        "version": 3
      },
      "file_extension": ".py",
      "mimetype": "text/x-python",
      "name": "python",
      "nbconvert_exporter": "python",
      "pygments_lexer": "ipython3",
      "version": "3.10.13"
    },
    "papermill": {
      "default_parameters": {},
      "duration": 2677.012088,
      "end_time": "2024-04-14T17:05:23.465438",
      "environment_variables": {},
      "exception": null,
      "input_path": "__notebook__.ipynb",
      "output_path": "__notebook__.ipynb",
      "parameters": {},
      "start_time": "2024-04-14T16:20:46.45335",
      "version": "2.5.0"
    },
    "colab": {
      "provenance": [],
      "gpuType": "T4"
    },
    "accelerator": "GPU"
  },
  "nbformat": 4,
  "nbformat_minor": 5
}